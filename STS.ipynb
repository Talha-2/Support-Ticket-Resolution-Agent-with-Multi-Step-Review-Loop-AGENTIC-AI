{
  "cells": [
    {
      "cell_type": "code",
      "execution_count": null,
      "id": "7fda24f2",
      "metadata": {
        "id": "7fda24f2"
      },
      "outputs": [],
      "source": [
        "from typing import Dict, List, Optional, TypedDict\n",
        "from langgraph.graph import StateGraph, END\n",
        "from langgraph.checkpoint.memory import MemorySaver\n",
        "from langchain.prompts import PromptTemplate\n",
        "from langchain.schema import HumanMessage, SystemMessage\n",
        "from langchain_community.vectorstores import FAISS\n",
        "from langchain.docstore.document import Document"
      ]
    },
    {
      "cell_type": "code",
      "execution_count": 1,
      "id": "727f13e3",
      "metadata": {},
      "outputs": [
        {
          "data": {
            "text/plain": [
              "True"
            ]
          },
          "execution_count": 1,
          "metadata": {},
          "output_type": "execute_result"
        }
      ],
      "source": [
        "from dotenv import load_dotenv\n",
        "load_dotenv()"
      ]
    },
    {
      "cell_type": "code",
      "execution_count": 3,
      "id": "159bc085",
      "metadata": {
        "id": "159bc085"
      },
      "outputs": [],
      "source": [
        "from langchain_groq import ChatGroq\n",
        "llm = ChatGroq(model=\"llama3-8b-8192\")\n"
      ]
    },
    {
      "cell_type": "code",
      "execution_count": 5,
      "id": "e422f6d8",
      "metadata": {
        "id": "e422f6d8"
      },
      "outputs": [
        {
          "name": "stderr",
          "output_type": "stream",
          "text": [
            "d:\\Zikra Info-tech\\.venv\\Lib\\site-packages\\tqdm\\auto.py:21: TqdmWarning: IProgress not found. Please update jupyter and ipywidgets. See https://ipywidgets.readthedocs.io/en/stable/user_install.html\n",
            "  from .autonotebook import tqdm as notebook_tqdm\n",
            "Xet Storage is enabled for this repo, but the 'hf_xet' package is not installed. Falling back to regular HTTP download. For better performance, install the package with: `pip install huggingface_hub[hf_xet]` or `pip install hf_xet`\n",
            "d:\\Zikra Info-tech\\.venv\\Lib\\site-packages\\huggingface_hub\\file_download.py:143: UserWarning: `huggingface_hub` cache-system uses symlinks by default to efficiently store duplicated files but your machine does not support them in C:\\Users\\X1 CARBON\\.cache\\huggingface\\hub\\models--sentence-transformers--all-MiniLM-L6-v2. Caching files will still work but in a degraded version that might require more space on your disk. This warning can be disabled by setting the `HF_HUB_DISABLE_SYMLINKS_WARNING` environment variable. For more details, see https://huggingface.co/docs/huggingface_hub/how-to-cache#limitations.\n",
            "To support symlinks on Windows, you either need to activate Developer Mode or to run Python as an administrator. In order to activate developer mode, see this article: https://docs.microsoft.com/en-us/windows/apps/get-started/enable-your-device-for-development\n",
            "  warnings.warn(message)\n"
          ]
        }
      ],
      "source": [
        "from sentence_transformers import SentenceTransformer\n",
        "from langchain.docstore.document import Document\n",
        "from langchain.vectorstores import FAISS\n",
        "import numpy as np\n",
        "\n",
        "# Initialize SentenceTransformer model\n",
        "model = SentenceTransformer(\"sentence-transformers/all-MiniLM-L6-v2\")\n",
        "\n",
        "# Mock knowledge base for FAISS\n",
        "documents = [\n",
        "    Document(page_content=\"Billing FAQ: Refunds processed in 5-7 days.\", metadata={\"category\": \"Billing\"}),\n",
        "    Document(page_content=\"Check payment status in account settings.\", metadata={\"category\": \"Billing\"}),\n",
        "    Document(page_content=\"Error 403: Clear cache or reset password.\", metadata={\"category\": \"Technical\"}),\n",
        "    Document(page_content=\"Login issues: Verify credentials or contact support.\", metadata={\"category\": \"Technical\"}),\n",
        "    Document(page_content=\"Security alert: Change password immediately.\", metadata={\"category\": \"Security\"}),\n",
        "    Document(page_content=\"Enable 2FA for account protection.\", metadata={\"category\": \"Security\"}),\n",
        "    Document(page_content=\"General support: Contact us at support@example.com.\", metadata={\"category\": \"General\"}),\n",
        "    Document(page_content=\"FAQs available on our website.\", metadata={\"category\": \"General\"}),\n",
        "]"
      ]
    },
    {
      "cell_type": "code",
      "execution_count": 6,
      "id": "b5vh73PIeK1I",
      "metadata": {
        "colab": {
          "base_uri": "https://localhost:8080/"
        },
        "id": "b5vh73PIeK1I",
        "outputId": "4cc48074-7b0a-4709-fb16-f8881cca3143"
      },
      "outputs": [
        {
          "data": {
            "text/plain": [
              "['Billing FAQ: Refunds processed in 5-7 days.',\n",
              " 'Check payment status in account settings.',\n",
              " 'Error 403: Clear cache or reset password.',\n",
              " 'Login issues: Verify credentials or contact support.',\n",
              " 'Security alert: Change password immediately.',\n",
              " 'Enable 2FA for account protection.',\n",
              " 'General support: Contact us at support@example.com.',\n",
              " 'FAQs available on our website.']"
            ]
          },
          "execution_count": 6,
          "metadata": {},
          "output_type": "execute_result"
        }
      ],
      "source": [
        "texts = [doc.page_content for doc in documents]\n",
        "texts"
      ]
    },
    {
      "cell_type": "code",
      "execution_count": 7,
      "id": "04CK4gb2eOGo",
      "metadata": {
        "colab": {
          "base_uri": "https://localhost:8080/"
        },
        "id": "04CK4gb2eOGo",
        "outputId": "b0cc8455-e380-4069-e3f9-ded745d05199"
      },
      "outputs": [
        {
          "data": {
            "text/plain": [
              "array([[0., 0., 0., ..., 0., 0., 0.],\n",
              "       [0., 0., 0., ..., 0., 0., 0.],\n",
              "       [0., 0., 0., ..., 0., 0., 0.],\n",
              "       ...,\n",
              "       [0., 0., 0., ..., 0., 0., 0.],\n",
              "       [0., 0., 0., ..., 0., 0., 0.],\n",
              "       [0., 0., 0., ..., 0., 0., 0.]], shape=(8, 384), dtype=float32)"
            ]
          },
          "execution_count": 7,
          "metadata": {},
          "output_type": "execute_result"
        }
      ],
      "source": [
        "# Generate embeddings using SentenceTransformer\n",
        "embeddings = model.encode(texts)\n",
        "embeddings\n"
      ]
    },
    {
      "cell_type": "code",
      "execution_count": 8,
      "id": "OtnLEIsRg0_9",
      "metadata": {
        "id": "OtnLEIsRg0_9"
      },
      "outputs": [
        {
          "name": "stderr",
          "output_type": "stream",
          "text": [
            "C:\\Users\\X1 CARBON\\AppData\\Local\\Temp\\ipykernel_11280\\3700643233.py:3: LangChainDeprecationWarning: The class `HuggingFaceEmbeddings` was deprecated in LangChain 0.2.2 and will be removed in 1.0. An updated version of the class exists in the :class:`~langchain-huggingface package and should be used instead. To use it run `pip install -U :class:`~langchain-huggingface` and import as `from :class:`~langchain_huggingface import HuggingFaceEmbeddings``.\n",
            "  embedding_function = HuggingFaceEmbeddings(model_name=\"sentence-transformers/all-MiniLM-L6-v2\")\n"
          ]
        }
      ],
      "source": [
        "from langchain.embeddings import HuggingFaceEmbeddings\n",
        "\n",
        "embedding_function = HuggingFaceEmbeddings(model_name=\"sentence-transformers/all-MiniLM-L6-v2\")\n",
        "\n",
        "vector_store = FAISS.from_texts(\n",
        "    texts=[doc.page_content for doc in documents],\n",
        "    embedding=embedding_function,\n",
        "    metadatas=[doc.metadata for doc in documents]\n",
        ")\n"
      ]
    },
    {
      "cell_type": "code",
      "execution_count": 9,
      "id": "9b67ad8c",
      "metadata": {
        "colab": {
          "base_uri": "https://localhost:8080/"
        },
        "id": "9b67ad8c",
        "outputId": "3be85ce5-8c94-4cdd-e469-fbe1ea835d31"
      },
      "outputs": [
        {
          "data": {
            "text/plain": [
              "<langchain_community.vectorstores.faiss.FAISS at 0x1979b3a6510>"
            ]
          },
          "execution_count": 9,
          "metadata": {},
          "output_type": "execute_result"
        }
      ],
      "source": [
        "vector_store"
      ]
    },
    {
      "cell_type": "code",
      "execution_count": 10,
      "id": "67a0befb",
      "metadata": {
        "id": "67a0befb"
      },
      "outputs": [],
      "source": [
        "# Define the state\n",
        "class TicketState(TypedDict):\n",
        "    ticket: Dict[str, str]  # {subject, description}\n",
        "    category: str\n",
        "    context: List[str]\n",
        "    draft: str\n",
        "    review_feedback: str\n",
        "    retry_count: int\n",
        "    final_response: Optional[str]"
      ]
    },
    {
      "cell_type": "code",
      "execution_count": 11,
      "id": "0c94ca45",
      "metadata": {
        "id": "0c94ca45"
      },
      "outputs": [],
      "source": [
        "import json\n",
        "\n",
        "classify_prompt = PromptTemplate(\n",
        "    input_variables=[\"subject\", \"description\"],\n",
        "    template=\"\"\"You are a customer support classifier. Classify the following support ticket into **one** of the following categories:\n",
        "\n",
        "- **Billing**: Issues related to payments, refunds, charges, invoices, or subscriptions.\n",
        "- **Technical**: Bugs, crashes, login errors, performance issues, or software malfunctions.\n",
        "- **Security**: Account breaches, password reset requests, suspicious activity, or data protection concerns.\n",
        "- **General**: Questions, feedback, feature inquiries, or anything not fitting the other categories.\n",
        "\n",
        "Return the classification as a valid JSON object **only**, in this format:\n",
        "{{\"category\": \"<Billing|Technical|Security|General>\"}}\n",
        "\n",
        "Ticket Subject: {subject}\n",
        "Ticket Description: {description}\n",
        "\n",
        "Example:\n",
        "{{\"category\": \"Technical\"}}\n",
        "\n",
        "Only respond with the JSON object. No explanation.\"\"\"\n",
        ")\n",
        "\n",
        "def classify_ticket(ticket: Dict[str, str]) -> str:\n",
        "\n",
        "    try:\n",
        "        prompt = classify_prompt.format(\n",
        "            subject=ticket[\"subject\"],\n",
        "            description=ticket[\"description\"]\n",
        "        )\n",
        "\n",
        "        response = llm.invoke(\n",
        "            [\n",
        "                SystemMessage(content=\"You are a ticket classification assistant. Respond with a JSON object containing a 'category'.\"),\n",
        "                HumanMessage(content=prompt)\n",
        "            ],\n",
        "            response_format={\"type\": \"json_object\"}\n",
        "        )\n",
        "\n",
        "        data = json.loads(response.content)\n",
        "        category = data.get(\"category\", \"General\")\n",
        "\n",
        "        return category if category in {\"Billing\", \"Technical\", \"Security\", \"General\"} else \"General\"\n",
        "\n",
        "    except Exception as e:\n",
        "        print(f\"Classification error: {e}\")\n",
        "        return \"General\"\n"
      ]
    },
    {
      "cell_type": "code",
      "execution_count": 12,
      "id": "25e2667a",
      "metadata": {
        "id": "25e2667a"
      },
      "outputs": [],
      "source": [
        "def retrieve_context(category: str, ticket: Dict[str, str], feedback: str = \"\") -> List[str]:\n",
        "\n",
        "    try:\n",
        "        query = f\"{ticket['subject']} {ticket['description']}\"\n",
        "\n",
        "        if feedback:\n",
        "            query += f\" {feedback}\"  # Refine query with feedback\n",
        "\n",
        "        docs = vector_store.similarity_search(query=query, k=2, filter={\"category\": category})\n",
        "        context = [doc.page_content for doc in docs]\n",
        "\n",
        "        return context if context else [\"No relevant context found.\"]\n",
        "\n",
        "    except Exception as e:\n",
        "        print(f\"Retrieval error: {str(e)}\")\n",
        "        return [\"Retrieval failed.\"]"
      ]
    },
    {
      "cell_type": "code",
      "execution_count": 13,
      "id": "df0f547f",
      "metadata": {
        "id": "df0f547f"
      },
      "outputs": [],
      "source": [
        "\n",
        "draft_prompt = PromptTemplate(\n",
        "    input_variables=[\"subject\", \"description\", \"context\"],\n",
        "    template=\"\"\"Generate a professional and polite response for the following support ticket using the provided context. Ensure the response is clear, addresses the issue, and is suitable for customer communication. Mention JSON in the context of structured data to ensure compatibility. Return the response as a plain text string.\n",
        "\n",
        "Ticket Subject: {subject}\n",
        "Ticket Description: {description}\n",
        "Context: {context}\n",
        "\n",
        "Example response: Dear Customer,\\nThank you for reaching out. [Address issue based on context]. Please let us know if you need further assistance.\\nBest regards,\\nSupport Team\"\"\"\n",
        ")\n",
        "\n",
        "def generate_draft(ticket: Dict[str, str], context: List[str]) -> str:\n",
        "\n",
        "    try:\n",
        "        context_str = \"\\n\".join(context) if context else \"No context available.\"\n",
        "\n",
        "        prompt = draft_prompt.format(subject=ticket[\"subject\"], description=ticket[\"description\"], context=context_str)\n",
        "        response = llm.invoke([\n",
        "            SystemMessage(content=\"You are a customer support assistant. Generate a professional response as a plain text string.\"),\n",
        "            HumanMessage(content=prompt)\n",
        "        ])\n",
        "\n",
        "        return response.content.strip()\n",
        "\n",
        "    except Exception as e:\n",
        "\n",
        "        print(f\"Draft error: {str(e)}\")\n",
        "        return \"Failed to generate draft.\""
      ]
    },
    {
      "cell_type": "code",
      "execution_count": null,
      "id": "0ac8075b",
      "metadata": {
        "id": "0ac8075b"
      },
      "outputs": [],
      "source": [
        "# Updated review prompt to enforce JSON output\n",
        "review_prompt = PromptTemplate(\n",
        "    input_variables=[\"draft\", \"subject\", \"description\"],\n",
        "    template=\"\"\"Review the following draft reply to a support ticket. Check for clarity, professionalism, and relevance. Return a JSON object like:\n",
        "\n",
        "{{\"pass\": true, \"feedback\": \"The draft is clear and professional.\"}}\n",
        "\n",
        "Ticket Subject: {subject}\n",
        "Ticket Description: {description}\n",
        "Draft: {draft}\n",
        "\n",
        "Only return the JSON. Do not include code formatting or explanation.\"\"\"\n",
        ")\n",
        "\n",
        "def review_draft(draft: str, ticket: Dict[str, str]) -> Dict[str, str]:\n",
        "    try:\n",
        "        prompt = review_prompt.format(\n",
        "            subject=ticket[\"subject\"],\n",
        "            description=ticket[\"description\"],\n",
        "            draft=draft\n",
        "        )\n",
        "\n",
        "        # act as a reviewer.\n",
        "        response = llm.invoke([\n",
        "            SystemMessage(\"You are a draft review assistant. Respond only with a JSON object containing 'pass' and 'feedback'. No explanations, no markdown.\"),\n",
        "            HumanMessage(content=prompt)\n",
        "        ])\n",
        "\n",
        "      # Parse the JSON response\n",
        "        data = json.loads(response.content)\n",
        "\n",
        "      \n",
        "        if \"pass\" in data and \"feedback\" in data:\n",
        "            return data\n",
        "        else:\n",
        "            raise ValueError(\"Missing keys in response JSON.\")\n",
        "\n",
        "    except Exception as e:\n",
        "        print(f\"Review error: {str(e)}\")\n",
        "        return {\"pass\": False, \"feedback\": f\"Review failed due to invalid response format: {str(e)}. Please escalate to human review.\"}\n"
      ]
    },
    {
      "cell_type": "code",
      "execution_count": 15,
      "id": "fdfc847b",
      "metadata": {
        "id": "fdfc847b"
      },
      "outputs": [],
      "source": [
        "def log_escalation(state: TicketState):\n",
        "    \"\"\"Log failed ticket to CSV for human review.\"\"\"\n",
        "    with open(\"escalation_log.csv\", \"a\", newline=\"\") as f:\n",
        "        writer = csv.writer(f)\n",
        "        writer.writerow([\n",
        "            state[\"ticket\"][\"subject\"],\n",
        "            state[\"ticket\"][\"description\"],\n",
        "            state[\"category\"],\n",
        "            state[\"draft\"],\n",
        "            state[\"review_feedback\"]\n",
        "        ])\n",
        "\n",
        "# Define LangGraph nodes\n",
        "def input_node(state: TicketState) -> TicketState:\n",
        "    print(state)\n",
        "    return state\n",
        "\n",
        "def classify_node(state: TicketState) -> TicketState:\n",
        "\n",
        "    state[\"category\"] = classify_ticket(state[\"ticket\"])\n",
        "    print(\"State at classification node \", state)\n",
        "    return state\n",
        "\n",
        "def retrieve_node(state: TicketState) -> TicketState:\n",
        "\n",
        "    state[\"context\"] = retrieve_context(state[\"category\"], state[\"ticket\"], state.get(\"review_feedback\", \"\"))\n",
        "    print(\"State at retrieve node \", state)\n",
        "    return state\n",
        "\n",
        "def draft_node(state: TicketState) -> TicketState:\n",
        "\n",
        "    state[\"draft\"] = generate_draft(state[\"ticket\"], state[\"context\"])\n",
        "    print(\"State at draft node \", state)\n",
        "\n",
        "    return state\n",
        "\n",
        "def review_node(state: TicketState) -> TicketState:\n",
        "\n",
        "    review = review_draft(state[\"draft\"], state[\"ticket\"])\n",
        "\n",
        "    state[\"review_feedback\"] = review[\"feedback\"]\n",
        "\n",
        "    if review[\"pass\"]:\n",
        "        state[\"final_response\"] = state[\"draft\"]\n",
        "\n",
        "    print(\"State at review node \", state)\n",
        "    return state\n",
        "\n",
        "def retry_or_escalate(state: TicketState) -> str:\n",
        "\n",
        "    print(f\"Retry count: {state['retry_count']}\")  # Debugging\n",
        "    if state.get(\"final_response\"):\n",
        "        print(\"Ending due to final response\")\n",
        "        return \"end\"\n",
        "    if state[\"retry_count\"] >= 2:\n",
        "        print(\"Escalating to CSV log\")\n",
        "        log_escalation(state)\n",
        "        return \"end\"\n",
        "    state[\"retry_count\"] += 1\n",
        "    print(\"Retrying, returning to retrieve\")\n",
        "    return \"retrieve\"\n",
        "\n"
      ]
    },
    {
      "cell_type": "code",
      "execution_count": 16,
      "id": "vLQSa6cIwAsf",
      "metadata": {
        "colab": {
          "base_uri": "https://localhost:8080/",
          "height": 671
        },
        "id": "vLQSa6cIwAsf",
        "outputId": "e8a5bacb-1ddc-428f-edb2-a85f61c4c1f5"
      },
      "outputs": [
        {
          "data": {
            "image/png": "[encoded data removed]",
            "text/plain": [
              "<IPython.core.display.Image object>"
            ]
          },
          "metadata": {},
          "output_type": "display_data"
        }
      ],
      "source": [
        "\n",
        "# Build LangGraph workflow\n",
        "workflow = StateGraph(TicketState)\n",
        "workflow.add_node(\"input\", input_node)\n",
        "workflow.add_node(\"classify\", classify_node)\n",
        "workflow.add_node(\"retrieve\", retrieve_node)\n",
        "workflow.add_node(\"draft\", draft_node)\n",
        "workflow.add_node(\"review\", review_node)\n",
        "\n",
        "workflow.set_entry_point(\"input\")\n",
        "workflow.add_edge(\"input\", \"classify\")\n",
        "workflow.add_edge(\"classify\", \"retrieve\")\n",
        "workflow.add_edge(\"retrieve\", \"draft\")\n",
        "workflow.add_edge(\"draft\", \"review\")\n",
        "workflow.add_conditional_edges(\n",
        "    \"review\",\n",
        "    retry_or_escalate,\n",
        "    {\"retrieve\": \"retrieve\", \"end\": END}\n",
        ")\n",
        "\n",
        "# Compile graph with memory\n",
        "memory = MemorySaver()\n",
        "graph = workflow.compile(checkpointer=memory)\n",
        "\n",
        "from IPython.display import Image, display\n",
        "display(Image(graph.get_graph().draw_mermaid_png()))"
      ]
    },
    {
      "cell_type": "code",
      "execution_count": 17,
      "id": "vIdsJHaywGsA",
      "metadata": {
        "colab": {
          "base_uri": "https://localhost:8080/"
        },
        "id": "vIdsJHaywGsA",
        "outputId": "bfb976cd-1d7e-47a3-c3f3-4eef03dffb30"
      },
      "outputs": [
        {
          "name": "stdout",
          "output_type": "stream",
          "text": [
            "{'ticket': {'subject': 'Refund not received', 'description': 'I canceled my subscription last week but haven’t received a refund yet.'}, 'category': '', 'context': [], 'draft': '', 'review_feedback': '', 'retry_count': 0, 'final_response': None}\n",
            "State at classification node  {'ticket': {'subject': 'Refund not received', 'description': 'I canceled my subscription last week but haven’t received a refund yet.'}, 'category': 'Billing', 'context': [], 'draft': '', 'review_feedback': '', 'retry_count': 0, 'final_response': None}\n",
            "State at retrieve node  {'ticket': {'subject': 'Refund not received', 'description': 'I canceled my subscription last week but haven’t received a refund yet.'}, 'category': 'Billing', 'context': ['Billing FAQ: Refunds processed in 5-7 days.', 'Check payment status in account settings.'], 'draft': '', 'review_feedback': '', 'retry_count': 0, 'final_response': None}\n",
            "State at draft node  {'ticket': {'subject': 'Refund not received', 'description': 'I canceled my subscription last week but haven’t received a refund yet.'}, 'category': 'Billing', 'context': ['Billing FAQ: Refunds processed in 5-7 days.', 'Check payment status in account settings.'], 'draft': \"Here is a professional and polite response as a plain text string:\\n\\nDear Customer,\\n\\nThank you for contacting us about the delay in receiving your refund. We apologize for the inconvenience this has caused. We understand that you canceled your subscription last week and, according to our Billing FAQ, refunds are typically processed within 5-7 days. We've checked your account settings and confirmed that the refund was initiated on the expected timeline. To ensure a smooth processing, please double-check your payment status in your account settings. If you still encounter any issues, please provide us with your order number and we'll investigate further. JSON-formatted data is used to structure your payment information, which allows for efficient and accurate processing.\\n\\nPlease let us know if you need further assistance. We're committed to resolving this matter promptly.\\n\\nBest regards,\\nSupport Team\", 'review_feedback': '', 'retry_count': 0, 'final_response': None}\n",
            "State at review node  {'ticket': {'subject': 'Refund not received', 'description': 'I canceled my subscription last week but haven’t received a refund yet.'}, 'category': 'Billing', 'context': ['Billing FAQ: Refunds processed in 5-7 days.', 'Check payment status in account settings.'], 'draft': \"Here is a professional and polite response as a plain text string:\\n\\nDear Customer,\\n\\nThank you for contacting us about the delay in receiving your refund. We apologize for the inconvenience this has caused. We understand that you canceled your subscription last week and, according to our Billing FAQ, refunds are typically processed within 5-7 days. We've checked your account settings and confirmed that the refund was initiated on the expected timeline. To ensure a smooth processing, please double-check your payment status in your account settings. If you still encounter any issues, please provide us with your order number and we'll investigate further. JSON-formatted data is used to structure your payment information, which allows for efficient and accurate processing.\\n\\nPlease let us know if you need further assistance. We're committed to resolving this matter promptly.\\n\\nBest regards,\\nSupport Team\", 'review_feedback': 'The draft is clear, professional, and relevant to the support ticket.', 'retry_count': 0, 'final_response': \"Here is a professional and polite response as a plain text string:\\n\\nDear Customer,\\n\\nThank you for contacting us about the delay in receiving your refund. We apologize for the inconvenience this has caused. We understand that you canceled your subscription last week and, according to our Billing FAQ, refunds are typically processed within 5-7 days. We've checked your account settings and confirmed that the refund was initiated on the expected timeline. To ensure a smooth processing, please double-check your payment status in your account settings. If you still encounter any issues, please provide us with your order number and we'll investigate further. JSON-formatted data is used to structure your payment information, which allows for efficient and accurate processing.\\n\\nPlease let us know if you need further assistance. We're committed to resolving this matter promptly.\\n\\nBest regards,\\nSupport Team\"}\n",
            "Retry count: 0\n",
            "Ending due to final response\n",
            "Final State: {\n",
            "  \"ticket\": {\n",
            "    \"subject\": \"Refund not received\",\n",
            "    \"description\": \"I canceled my subscription last week but haven\\u2019t received a refund yet.\"\n",
            "  },\n",
            "  \"category\": \"Billing\",\n",
            "  \"context\": [\n",
            "    \"Billing FAQ: Refunds processed in 5-7 days.\",\n",
            "    \"Check payment status in account settings.\"\n",
            "  ],\n",
            "  \"draft\": \"Here is a professional and polite response as a plain text string:\\n\\nDear Customer,\\n\\nThank you for contacting us about the delay in receiving your refund. We apologize for the inconvenience this has caused. We understand that you canceled your subscription last week and, according to our Billing FAQ, refunds are typically processed within 5-7 days. We've checked your account settings and confirmed that the refund was initiated on the expected timeline. To ensure a smooth processing, please double-check your payment status in your account settings. If you still encounter any issues, please provide us with your order number and we'll investigate further. JSON-formatted data is used to structure your payment information, which allows for efficient and accurate processing.\\n\\nPlease let us know if you need further assistance. We're committed to resolving this matter promptly.\\n\\nBest regards,\\nSupport Team\",\n",
            "  \"review_feedback\": \"The draft is clear, professional, and relevant to the support ticket.\",\n",
            "  \"retry_count\": 0,\n",
            "  \"final_response\": \"Here is a professional and polite response as a plain text string:\\n\\nDear Customer,\\n\\nThank you for contacting us about the delay in receiving your refund. We apologize for the inconvenience this has caused. We understand that you canceled your subscription last week and, according to our Billing FAQ, refunds are typically processed within 5-7 days. We've checked your account settings and confirmed that the refund was initiated on the expected timeline. To ensure a smooth processing, please double-check your payment status in your account settings. If you still encounter any issues, please provide us with your order number and we'll investigate further. JSON-formatted data is used to structure your payment information, which allows for efficient and accurate processing.\\n\\nPlease let us know if you need further assistance. We're committed to resolving this matter promptly.\\n\\nBest regards,\\nSupport Team\"\n",
            "}\n",
            "Final Response: Here is a professional and polite response as a plain text string:\n",
            "\n",
            "Dear Customer,\n",
            "\n",
            "Thank you for contacting us about the delay in receiving your refund. We apologize for the inconvenience this has caused. We understand that you canceled your subscription last week and, according to our Billing FAQ, refunds are typically processed within 5-7 days. We've checked your account settings and confirmed that the refund was initiated on the expected timeline. To ensure a smooth processing, please double-check your payment status in your account settings. If you still encounter any issues, please provide us with your order number and we'll investigate further. JSON-formatted data is used to structure your payment information, which allows for efficient and accurate processing.\n",
            "\n",
            "Please let us know if you need further assistance. We're committed to resolving this matter promptly.\n",
            "\n",
            "Best regards,\n",
            "Support Team\n"
          ]
        }
      ],
      "source": [
        "\n",
        "# Example usage\n",
        "def run_agent(ticket: Dict[str, str]):\n",
        "    initial_state = TicketState(\n",
        "        ticket=ticket,\n",
        "        category=\"\",\n",
        "        context=[],\n",
        "        draft=\"\",\n",
        "        review_feedback=\"\",\n",
        "        retry_count=0,\n",
        "        final_response=None\n",
        "    )\n",
        "    result = graph.invoke(initial_state, config={\"thread_id\": \"ticket-001\", \"recursion_limit\": 50})\n",
        "    return result\n",
        "\n",
        "# Test the agent\n",
        "if __name__ == \"__main__\":\n",
        "    # Create CSV file with headers\n",
        "    with open(\"escalation_log.csv\", \"w\", newline=\"\") as f:\n",
        "        writer = csv.writer(f)\n",
        "        writer.writerow([\"Subject\", \"Description\", \"Category\", \"Draft\", \"Feedback\"])\n",
        "\n",
        "    # Test ticket\n",
        "    test_ticket = {\n",
        "    \"subject\": \"Refund not received\",\n",
        "    \"description\": \"I canceled my subscription last week but haven’t received a refund yet.\"\n",
        "}\n",
        "\n",
        "\n",
        "\n",
        "\n",
        "    result = run_agent(test_ticket)\n",
        "    print(\"Final State:\", json.dumps(result, indent=2))\n",
        "    if result[\"final_response\"]:\n",
        "        print(\"Final Response:\", result[\"final_response\"])\n",
        "    else:\n",
        "        print(\"Escalated to human review. Check escalation_log.csv\")"
      ]
    }
  ],
  "metadata": {
    "colab": {
      "provenance": []
    },
    "kernelspec": {
      "display_name": "Zikra Info-tech",
      "language": "python",
      "name": "python3"
    },
    "language_info": {
      "codemirror_mode": {
        "name": "ipython",
        "version": 3
      },
      "file_extension": ".py",
      "mimetype": "text/x-python",
      "name": "python",
      "nbconvert_exporter": "python",
      "pygments_lexer": "ipython3",
      "version": "3.13.5"
    }
  },
  "nbformat": 4,
  "nbformat_minor": 5
}
